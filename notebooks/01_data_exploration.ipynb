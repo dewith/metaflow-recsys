{
 "cells": [
  {
   "cell_type": "markdown",
   "metadata": {},
   "source": [
    "# Dataset Exploration"
   ]
  },
  {
   "cell_type": "code",
   "execution_count": null,
   "metadata": {},
   "outputs": [],
   "source": [
    "%cd ../"
   ]
  },
  {
   "cell_type": "markdown",
   "metadata": {},
   "source": [
    "Import libraries"
   ]
  },
  {
   "cell_type": "code",
   "execution_count": null,
   "metadata": {},
   "outputs": [],
   "source": [
    "from collections import Counter\n",
    "\n",
    "import matplotlib.pyplot as plt\n",
    "import numpy as np\n",
    "import pandas as pd\n",
    "import powerlaw\n",
    "\n",
    "from src.utils.config import get_dataset_path\n",
    "from src.utils.styling import apply_styling"
   ]
  },
  {
   "cell_type": "code",
   "execution_count": null,
   "metadata": {},
   "outputs": [],
   "source": [
    "colors = apply_styling()\n",
    "palette = colors['palette']"
   ]
  },
  {
   "cell_type": "markdown",
   "metadata": {},
   "source": [
    "Read the parquet file"
   ]
  },
  {
   "cell_type": "code",
   "execution_count": null,
   "metadata": {},
   "outputs": [],
   "source": [
    "df = pd.read_parquet(get_dataset_path('master_spotify'))\n",
    "print('Rows: ', len(df))\n",
    "df.head(3)"
   ]
  },
  {
   "cell_type": "markdown",
   "metadata": {},
   "source": [
    "What artists and songs are most popular?"
   ]
  },
  {
   "cell_type": "code",
   "execution_count": null,
   "metadata": {},
   "outputs": [],
   "source": [
    "artist_counter = Counter(list(df['artist']))\n",
    "song_counter = Counter(list(df['track']))\n",
    "print('Top artists: {}'.format(artist_counter.most_common(10)))\n",
    "print('Top songs: {}'.format(song_counter.most_common(10)))"
   ]
  },
  {
   "cell_type": "markdown",
   "metadata": {},
   "source": [
    "Let's visualize the distribution of tracks and artist in our dataset."
   ]
  },
  {
   "cell_type": "code",
   "execution_count": null,
   "metadata": {},
   "outputs": [],
   "source": [
    "def plot_distribution(artist_counter, song_counter, n_bins: int = 50):\n",
    "    \"\"\"Plot distributions of tracks and artists in the final dataset.\"\"\"\n",
    "    fig, axs = plt.subplots(1, 2, tight_layout=True, figsize=(10, 3.5))\n",
    "\n",
    "    # Histogram of artists\n",
    "    axs[0].hist(artist_counter.values(), bins=n_bins, color=palette[0])\n",
    "    axs[0].set_title('Artists')\n",
    "    axs[0].set_yscale('log')\n",
    "    # axs[0].ticklabel_format(axis='x', style='sci', scilimits=(0, 0))\n",
    "    axs[0].set_ylabel('No. of artists')\n",
    "    axs[0].set_xlabel('No. of times artist is in a playlist')\n",
    "\n",
    "    # Histogram of songs\n",
    "    axs[1].hist(song_counter.values(), bins=n_bins, color=palette[1])\n",
    "    axs[1].set_title('Songs')\n",
    "    axs[1].set_yscale('log')\n",
    "    axs[1].set_ylabel('No. of songs')\n",
    "    axs[1].set_xlabel('No. of times song is in a playlist')\n",
    "    plt.show()"
   ]
  },
  {
   "cell_type": "code",
   "execution_count": null,
   "metadata": {},
   "outputs": [],
   "source": [
    "plot_distribution(artist_counter, song_counter, n_bins=40)"
   ]
  },
  {
   "cell_type": "markdown",
   "metadata": {},
   "source": [
    "Since it looks like our data is very skewed, we can use the `powerlaw` powerlaw library and formally compare the distribution of how artists are represented in playlists to a powerlaw. Specifically, we use the package to visualize the [probability density function](https://pythonhosted.org/powerlaw/#powerlaw.Fit.plot_pdf) for the theoretical distribution estimated using the number of times artists are represented in playlists."
   ]
  },
  {
   "cell_type": "code",
   "execution_count": null,
   "metadata": {},
   "outputs": [],
   "source": [
    "data = list(artist_counter.values())\n",
    "fit = powerlaw.Fit(data, discrete=True)"
   ]
  },
  {
   "cell_type": "code",
   "execution_count": null,
   "metadata": {},
   "outputs": [],
   "source": [
    "fig, ax = plt.subplots(1, 1, figsize=(7, 4))\n",
    "\n",
    "fit.plot_pdf(\n",
    "    color=palette[0],\n",
    "    linewidth=1.5,\n",
    "    linestyle='-',\n",
    "    ax=ax,\n",
    "    label='Power law fit'\n",
    ")\n",
    "fit.power_law.plot_pdf(\n",
    "    color=palette[0],\n",
    "    linewidth=1.5,\n",
    "    linestyle='--',\n",
    "    ax=ax,\n",
    "    label='Theoretical power law',\n",
    ")\n",
    "ax.hist(\n",
    "    data,\n",
    "    bins=np.logspace(np.log10(1), np.log10(max(data)), 50),\n",
    "    density=True,\n",
    "    alpha=0.75,\n",
    "    # label='Artist distribution',\n",
    "    color=colors['lines'],\n",
    ")\n",
    "\n",
    "ax.set_xscale('log')\n",
    "ax.set_yscale('log')\n",
    "ax.set_title('Artist Playlist Distribution vs Power Law')\n",
    "ax.set_ylabel('Density')\n",
    "ax.set_xlabel('No. of times artist is in a playlist')\n",
    "ax.legend(frameon=False)\n",
    "plt.show()"
   ]
  },
  {
   "cell_type": "markdown",
   "metadata": {},
   "source": [
    "In this notebook, we explored a dataset with millions of Spotify songs and their playlist groupings. You saw which artists and songs are most popular and observed how the distribution of how artists are represented in playlists follows a power law."
   ]
  }
 ],
 "metadata": {
  "kernelspec": {
   "display_name": ".env",
   "language": "python",
   "name": "python3"
  },
  "language_info": {
   "codemirror_mode": {
    "name": "ipython",
    "version": 3
   },
   "file_extension": ".py",
   "mimetype": "text/x-python",
   "name": "python",
   "nbconvert_exporter": "python",
   "pygments_lexer": "ipython3",
   "version": "3.11.5"
  }
 },
 "nbformat": 4,
 "nbformat_minor": 2
}
